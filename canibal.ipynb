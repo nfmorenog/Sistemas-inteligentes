{
  "nbformat": 4,
  "nbformat_minor": 0,
  "metadata": {
    "colab": {
      "name": "canibal",
      "version": "0.3.2",
      "provenance": [],
      "include_colab_link": true
    },
    "kernelspec": {
      "name": "python3",
      "display_name": "Python 3"
    }
  },
  "cells": [
    {
      "cell_type": "markdown",
      "metadata": {
        "id": "view-in-github",
        "colab_type": "text"
      },
      "source": [
        "[View in Colaboratory](https://colab.research.google.com/github/nfmorenog/Sistemas-inteligentes/blob/master/canibal.ipynb)"
      ]
    },
    {
      "metadata": {
        "id": "aps7lA0MS3m3",
        "colab_type": "text"
      },
      "cell_type": "markdown",
      "source": [
        "Código para obtener `search.py` y `utils.py` del sitio de AIMA."
      ]
    },
    {
      "metadata": {
        "id": "eagjQctyuD9W",
        "colab_type": "code",
        "colab": {
          "base_uri": "https://localhost:8080/",
          "height": 391
        },
        "outputId": "f8005eca-7512-49ca-b16a-074a18d4f12e"
      },
      "cell_type": "code",
      "source": [
        "!wget https://raw.githubusercontent.com/aimacode/aima-python/master/search.py\n",
        "!wget https://raw.githubusercontent.com/aimacode/aima-python/master/utils.py"
      ],
      "execution_count": 0,
      "outputs": [
        {
          "output_type": "stream",
          "text": [
            "--2018-09-03 22:33:30--  https://raw.githubusercontent.com/aimacode/aima-python/master/search.py\n",
            "Resolving raw.githubusercontent.com (raw.githubusercontent.com)... 151.101.0.133, 151.101.64.133, 151.101.128.133, ...\n",
            "Connecting to raw.githubusercontent.com (raw.githubusercontent.com)|151.101.0.133|:443... connected.\n",
            "HTTP request sent, awaiting response... 200 OK\n",
            "Length: 55400 (54K) [text/plain]\n",
            "Saving to: ‘search.py’\n",
            "\n",
            "search.py           100%[===================>]  54.10K  --.-KB/s    in 0.03s   \n",
            "\n",
            "2018-09-03 22:33:30 (2.05 MB/s) - ‘search.py’ saved [55400/55400]\n",
            "\n",
            "--2018-09-03 22:33:31--  https://raw.githubusercontent.com/aimacode/aima-python/master/utils.py\n",
            "Resolving raw.githubusercontent.com (raw.githubusercontent.com)... 151.101.0.133, 151.101.64.133, 151.101.128.133, ...\n",
            "Connecting to raw.githubusercontent.com (raw.githubusercontent.com)|151.101.0.133|:443... connected.\n",
            "HTTP request sent, awaiting response... 200 OK\n",
            "Length: 21381 (21K) [text/plain]\n",
            "Saving to: ‘utils.py’\n",
            "\n",
            "utils.py            100%[===================>]  20.88K  --.-KB/s    in 0.01s   \n",
            "\n",
            "2018-09-03 22:33:31 (1.58 MB/s) - ‘utils.py’ saved [21381/21381]\n",
            "\n"
          ],
          "name": "stdout"
        }
      ]
    },
    {
      "metadata": {
        "id": "TrZDizv5vlDn",
        "colab_type": "code",
        "colab": {
          "base_uri": "https://localhost:8080/",
          "height": 151
        },
        "outputId": "46f20b69-2278-448e-ce79-d1091a0c60c4"
      },
      "cell_type": "code",
      "source": [
        "!ls -la"
      ],
      "execution_count": 0,
      "outputs": [
        {
          "output_type": "stream",
          "text": [
            "total 108\r\n",
            "drwxr-xr-x 1 root root  4096 Aug 27 20:57 .\r\n",
            "drwxr-xr-x 1 root root  4096 Aug 27 20:53 ..\r\n",
            "drwxr-xr-x 4 root root  4096 Aug 24 16:36 .config\r\n",
            "drwxr-xr-x 2 root root  4096 Aug 27 20:57 __pycache__\r\n",
            "drwxr-xr-x 2 root root  4096 Aug 24 16:46 sample_data\r\n",
            "-rw-r--r-- 1 root root 55400 Aug 27 20:57 search.py\r\n",
            "-rw-r--r-- 1 root root 21381 Aug 27 20:57 utils.py\r\n"
          ],
          "name": "stdout"
        }
      ]
    },
    {
      "metadata": {
        "id": "QucCv2TuVQad",
        "colab_type": "text"
      },
      "cell_type": "markdown",
      "source": [
        "\n",
        "## Introducción a los sistemas inteligentes 2018-1\n",
        "\n",
        "\n",
        "___________\n",
        "\n",
        "## El problema de la col, la cabra y el lobo (CCL).\n",
        "\n",
        "Un granjero quiere transportar una col, una cabra y un lobo al otro lado del río.\n",
        "Él tiene un bote que solo tiene espacio para transportar dos viajeros. El granjero no puede dejar la col y la cabra solos o la cabra y el lobo solos.\n",
        "\n",
        "Su objetivo es modelar este problema como un problema de búsqueda y resolverlo usando diferentes algoritmos de búsqueda.\n",
        "\n",
        "_________\n",
        "## una clase para modelar el problema CCL\n",
        "\n",
        "Un estado del problema puede representarse de diferentes formas. La sugerencia es usar una lista de cuatro posiciones (cada una correspondiente a un actor: granjero, col, cabra, lobo) que indique en que lado del rio (derecha o izquierda) se encuentra el respectivo actor. Por ejemplo el sigiente vector:\n",
        "\n",
        "```python\n",
        "['D', 'D', 'I', 'I']\n",
        "```\n",
        "\n",
        "Representa un estado en el cual el granjero y la col se encuentran en el lado derecho, y la cabra y el lobo en el izquierdo. Haría falta una posición más para representar dónde está el bote?\n",
        "\n",
        "Asuma que al principio todos los actores están a la derecha y al final todos deben estar a la izquierda."
      ]
    },
    {
      "metadata": {
        "id": "STNb8wdKVs91",
        "colab_type": "code",
        "colab": {}
      },
      "cell_type": "code",
      "source": [
        "import search\n",
        "import utils\n",
        "\n",
        "\n",
        "\n",
        "\n",
        "class CCL_problem(search.Problem):    \n",
        "    \n",
        "    def __init__(self, startState):\n",
        "        '''\n",
        "        Store the initial state in the problem representation and any useful\n",
        "        data.\n",
        "        '''\n",
        "        super().__init__(tuple(startState))\n",
        "        self.expanded = 0\n",
        "        pass\n",
        "    \n",
        "    \n",
        "    def goal_test(self, state):\n",
        "        '''\n",
        "        Define when a given state is a goal state (all the actors at the left side of the river)\n",
        "        '''\n",
        "        if state == ('D',0,0,3,3):\n",
        "          return True\n",
        "        else:\n",
        "          return False\n",
        "    \n",
        "    def getStartState(self):\n",
        "        '''\n",
        "        Implement a method that returns the start state.\n",
        "        '''\n",
        "        return self.initial\n",
        "    \n",
        "    def result(self, state, action):\n",
        "        \"\"\"Return the state that results from executing the given\n",
        "        action in the given state. The action must be one of\n",
        "        self.actions(state).\"\"\"\n",
        "        self.expanded += 1\n",
        "        #assert (state[action] == state[0])\n",
        "        new_state = list(state)\n",
        "        if state[0] == 'I':\n",
        "            new_state[0] = 'D'\n",
        "            new_state[1] -= action[0]\n",
        "            new_state[2] -= action[1]\n",
        "            new_state[3] += action[0]\n",
        "            new_state[4] += action[1]\n",
        "        else:\n",
        "            new_state[0] = 'I'\n",
        "            new_state[1] += action[0]\n",
        "            new_state[2] += action[1]\n",
        "            new_state[3] -= action[0]\n",
        "            new_state[4] -= action[1]\n",
        "        #print (new_state)\n",
        "        return tuple(new_state)\n",
        "\n",
        "    def actions(self, state):\n",
        "        \"\"\"Return the actions that can be executed in the given\n",
        "        state.\"\"\"\n",
        "        \n",
        "        actions = [(i,j) for i in range(3) for j in range(3)  if i + j  <=2 and i + j >0 and  self.valid_state(self.result( state, (i,j))) ]\n",
        "        return actions\n",
        "    \n",
        "    def path_cost(self, c, state1, action, state2):\n",
        "        \"\"\"Return the cost of a solution path that arrives at state2 from\n",
        "        state1 via action, assuming cost c to get up to state1.\"\"\"\n",
        "        return c + 1\n",
        "    \n",
        "    def valid_state (self,state):\n",
        "      if (state[1]==1 and state[2]>1) or (state[3]==1 and state[4]>1):        \n",
        "        return False\n",
        "      elif (state[1]==2 and state[2]>2) or (state[3]==2 and state[4]>2):\n",
        "        return False\n",
        "      elif (state[1]<0 or state[1]>3) or (state[2]<0 or state[2]>3) or (state[3]<0 or state[3]>3) or (state[4]<0 or state[4]>3):\n",
        "        return False\n",
        "      else:\n",
        "        #print (\"true\")\n",
        "        return True\n",
        "    "
      ],
      "execution_count": 0,
      "outputs": []
    },
    {
      "metadata": {
        "id": "6R8tU51yZ3Rb",
        "colab_type": "text"
      },
      "cell_type": "markdown",
      "source": [
        "## Búsqueda de una solución\n",
        "\n",
        "Para encontrar una solución vamos a usar la función `breadth_first_tree_search` de la librería `search.py`"
      ]
    },
    {
      "metadata": {
        "id": "PK1JrHBbZ2jq",
        "colab_type": "code",
        "colab": {
          "base_uri": "https://localhost:8080/",
          "height": 221
        },
        "outputId": "a10e2592-fce7-42dd-986a-5f8dd349de93"
      },
      "cell_type": "code",
      "source": [
        "problem = CCL_problem(['I', 3, 3, 0, 0])\n",
        "nodo = search.breadth_first_tree_search(problem)\n",
        "nodo.path()"
      ],
      "execution_count": 0,
      "outputs": [
        {
          "output_type": "execute_result",
          "data": {
            "text/plain": [
              "[<Node ('I', 3, 3, 0, 0)>,\n",
              " <Node ('D', 3, 1, 0, 2)>,\n",
              " <Node ('I', 3, 2, 0, 1)>,\n",
              " <Node ('D', 3, 0, 0, 3)>,\n",
              " <Node ('I', 3, 1, 0, 2)>,\n",
              " <Node ('D', 1, 1, 2, 2)>,\n",
              " <Node ('I', 2, 2, 1, 1)>,\n",
              " <Node ('D', 0, 2, 3, 1)>,\n",
              " <Node ('I', 0, 3, 3, 0)>,\n",
              " <Node ('D', 0, 1, 3, 2)>,\n",
              " <Node ('I', 0, 2, 3, 1)>,\n",
              " <Node ('D', 0, 0, 3, 3)>]"
            ]
          },
          "metadata": {
            "tags": []
          },
          "execution_count": 80
        }
      ]
    },
    {
      "metadata": {
        "id": "OlQOc1U0figq",
        "colab_type": "text"
      },
      "cell_type": "markdown",
      "source": [
        "El método nos retorna un nodo que contiene el estado final. A partir de este podemos recuperar la secuencia de estados y acciones que me llevan desde el estado inicial hasta el estado objetivo."
      ]
    },
    {
      "metadata": {
        "id": "jGWazvlrZDFG",
        "colab_type": "code",
        "colab": {
          "base_uri": "https://localhost:8080/",
          "height": 221
        },
        "outputId": "0a9150db-d220-45de-e50d-6a4232240fff"
      },
      "cell_type": "code",
      "source": [
        "tmp = nodo\n",
        "while tmp != None:\n",
        "  print(tmp, tmp.action)\n",
        "  tmp = tmp.parent"
      ],
      "execution_count": 0,
      "outputs": [
        {
          "output_type": "stream",
          "text": [
            "<Node ('D', 0, 0, 3, 3)> (0, 2)\n",
            "<Node ('I', 0, 2, 3, 1)> (0, 1)\n",
            "<Node ('D', 0, 1, 3, 2)> (0, 2)\n",
            "<Node ('I', 0, 3, 3, 0)> (0, 1)\n",
            "<Node ('D', 0, 2, 3, 1)> (2, 0)\n",
            "<Node ('I', 2, 2, 1, 1)> (1, 1)\n",
            "<Node ('D', 1, 1, 2, 2)> (2, 0)\n",
            "<Node ('I', 3, 1, 0, 2)> (0, 1)\n",
            "<Node ('D', 3, 0, 0, 3)> (0, 2)\n",
            "<Node ('I', 3, 2, 0, 1)> (0, 1)\n",
            "<Node ('D', 3, 1, 0, 2)> (0, 2)\n",
            "<Node ('I', 3, 3, 0, 0)> None\n"
          ],
          "name": "stdout"
        }
      ]
    },
    {
      "metadata": {
        "id": "T5CPCXFifwo2",
        "colab_type": "text"
      },
      "cell_type": "markdown",
      "source": [
        "Esto puede hacerse de manera más sencilla con los métodos `path` y `solution`"
      ]
    },
    {
      "metadata": {
        "id": "329votyPel7L",
        "colab_type": "code",
        "colab": {
          "base_uri": "https://localhost:8080/",
          "height": 221
        },
        "outputId": "3dfe0ba2-41d1-47e3-d3b1-1779e62fd602"
      },
      "cell_type": "code",
      "source": [
        "nodo.path()"
      ],
      "execution_count": 0,
      "outputs": [
        {
          "output_type": "execute_result",
          "data": {
            "text/plain": [
              "[<Node ('I', 3, 3, 0, 0)>,\n",
              " <Node ('D', 3, 1, 0, 2)>,\n",
              " <Node ('I', 3, 2, 0, 1)>,\n",
              " <Node ('D', 3, 0, 0, 3)>,\n",
              " <Node ('I', 3, 1, 0, 2)>,\n",
              " <Node ('D', 1, 1, 2, 2)>,\n",
              " <Node ('I', 2, 2, 1, 1)>,\n",
              " <Node ('D', 0, 2, 3, 1)>,\n",
              " <Node ('I', 0, 3, 3, 0)>,\n",
              " <Node ('D', 0, 1, 3, 2)>,\n",
              " <Node ('I', 0, 2, 3, 1)>,\n",
              " <Node ('D', 0, 0, 3, 3)>]"
            ]
          },
          "metadata": {
            "tags": []
          },
          "execution_count": 75
        }
      ]
    },
    {
      "metadata": {
        "id": "F3qXu-jXf9g9",
        "colab_type": "code",
        "colab": {
          "base_uri": "https://localhost:8080/",
          "height": 204
        },
        "outputId": "0c404af0-8a6f-4005-fe35-8b76aec8c80f"
      },
      "cell_type": "code",
      "source": [
        "nodo.solution()"
      ],
      "execution_count": 0,
      "outputs": [
        {
          "output_type": "execute_result",
          "data": {
            "text/plain": [
              "[(0, 2),\n",
              " (0, 1),\n",
              " (0, 2),\n",
              " (0, 1),\n",
              " (2, 0),\n",
              " (1, 1),\n",
              " (2, 0),\n",
              " (0, 1),\n",
              " (0, 2),\n",
              " (0, 1),\n",
              " (0, 2)]"
            ]
          },
          "metadata": {
            "tags": []
          },
          "execution_count": 77
        }
      ]
    },
    {
      "metadata": {
        "id": "_lgl3UYOgD4O",
        "colab_type": "code",
        "colab": {
          "base_uri": "https://localhost:8080/",
          "height": 775
        },
        "outputId": "cc45f906-b798-4f1d-9d32-cba86b4cb278"
      },
      "cell_type": "code",
      "source": [
        "nodo = search.depth_first_tree_search(problem)\n",
        "nodo.path()"
      ],
      "execution_count": 0,
      "outputs": [
        {
          "output_type": "error",
          "ename": "KeyboardInterrupt",
          "evalue": "ignored",
          "traceback": [
            "\u001b[0;31m---------------------------------------------------------------------------\u001b[0m",
            "\u001b[0;31mKeyboardInterrupt\u001b[0m                         Traceback (most recent call last)",
            "\u001b[0;32m<ipython-input-76-4dd37971737d>\u001b[0m in \u001b[0;36m<module>\u001b[0;34m()\u001b[0m\n\u001b[0;32m----> 1\u001b[0;31m \u001b[0mnodo\u001b[0m \u001b[0;34m=\u001b[0m \u001b[0msearch\u001b[0m\u001b[0;34m.\u001b[0m\u001b[0mdepth_first_tree_search\u001b[0m\u001b[0;34m(\u001b[0m\u001b[0mproblem\u001b[0m\u001b[0;34m)\u001b[0m\u001b[0;34m\u001b[0m\u001b[0m\n\u001b[0m\u001b[1;32m      2\u001b[0m \u001b[0mnodo\u001b[0m\u001b[0;34m.\u001b[0m\u001b[0mpath\u001b[0m\u001b[0;34m(\u001b[0m\u001b[0;34m)\u001b[0m\u001b[0;34m\u001b[0m\u001b[0m\n",
            "\u001b[0;32m/content/search.py\u001b[0m in \u001b[0;36mdepth_first_tree_search\u001b[0;34m(problem)\u001b[0m\n\u001b[1;32m    209\u001b[0m         \u001b[0;32mif\u001b[0m \u001b[0mproblem\u001b[0m\u001b[0;34m.\u001b[0m\u001b[0mgoal_test\u001b[0m\u001b[0;34m(\u001b[0m\u001b[0mnode\u001b[0m\u001b[0;34m.\u001b[0m\u001b[0mstate\u001b[0m\u001b[0;34m)\u001b[0m\u001b[0;34m:\u001b[0m\u001b[0;34m\u001b[0m\u001b[0m\n\u001b[1;32m    210\u001b[0m             \u001b[0;32mreturn\u001b[0m \u001b[0mnode\u001b[0m\u001b[0;34m\u001b[0m\u001b[0m\n\u001b[0;32m--> 211\u001b[0;31m         \u001b[0mfrontier\u001b[0m\u001b[0;34m.\u001b[0m\u001b[0mextend\u001b[0m\u001b[0;34m(\u001b[0m\u001b[0mnode\u001b[0m\u001b[0;34m.\u001b[0m\u001b[0mexpand\u001b[0m\u001b[0;34m(\u001b[0m\u001b[0mproblem\u001b[0m\u001b[0;34m)\u001b[0m\u001b[0;34m)\u001b[0m\u001b[0;34m\u001b[0m\u001b[0m\n\u001b[0m\u001b[1;32m    212\u001b[0m     \u001b[0;32mreturn\u001b[0m \u001b[0;32mNone\u001b[0m\u001b[0;34m\u001b[0m\u001b[0m\n\u001b[1;32m    213\u001b[0m \u001b[0;34m\u001b[0m\u001b[0m\n",
            "\u001b[0;32m/content/search.py\u001b[0m in \u001b[0;36mexpand\u001b[0;34m(self, problem)\u001b[0m\n\u001b[1;32m    106\u001b[0m         \u001b[0;34m\"\"\"List the nodes reachable in one step from this node.\"\"\"\u001b[0m\u001b[0;34m\u001b[0m\u001b[0m\n\u001b[1;32m    107\u001b[0m         return [self.child_node(problem, action)\n\u001b[0;32m--> 108\u001b[0;31m                 for action in problem.actions(self.state)]\n\u001b[0m\u001b[1;32m    109\u001b[0m \u001b[0;34m\u001b[0m\u001b[0m\n\u001b[1;32m    110\u001b[0m     \u001b[0;32mdef\u001b[0m \u001b[0mchild_node\u001b[0m\u001b[0;34m(\u001b[0m\u001b[0mself\u001b[0m\u001b[0;34m,\u001b[0m \u001b[0mproblem\u001b[0m\u001b[0;34m,\u001b[0m \u001b[0maction\u001b[0m\u001b[0;34m)\u001b[0m\u001b[0;34m:\u001b[0m\u001b[0;34m\u001b[0m\u001b[0m\n",
            "\u001b[0;32m<ipython-input-72-64964f352bef>\u001b[0m in \u001b[0;36mactions\u001b[0;34m(self, state)\u001b[0m\n\u001b[1;32m     70\u001b[0m         state.\"\"\"\n\u001b[1;32m     71\u001b[0m \u001b[0;34m\u001b[0m\u001b[0m\n\u001b[0;32m---> 72\u001b[0;31m         \u001b[0mactions\u001b[0m \u001b[0;34m=\u001b[0m \u001b[0;34m[\u001b[0m\u001b[0;34m(\u001b[0m\u001b[0mi\u001b[0m\u001b[0;34m,\u001b[0m\u001b[0mj\u001b[0m\u001b[0;34m)\u001b[0m \u001b[0;32mfor\u001b[0m \u001b[0mi\u001b[0m \u001b[0;32min\u001b[0m \u001b[0mrange\u001b[0m\u001b[0;34m(\u001b[0m\u001b[0;36m3\u001b[0m\u001b[0;34m)\u001b[0m \u001b[0;32mfor\u001b[0m \u001b[0mj\u001b[0m \u001b[0;32min\u001b[0m \u001b[0mrange\u001b[0m\u001b[0;34m(\u001b[0m\u001b[0;36m3\u001b[0m\u001b[0;34m)\u001b[0m  \u001b[0;32mif\u001b[0m \u001b[0mi\u001b[0m \u001b[0;34m+\u001b[0m \u001b[0mj\u001b[0m  \u001b[0;34m<=\u001b[0m\u001b[0;36m2\u001b[0m \u001b[0;32mand\u001b[0m \u001b[0mi\u001b[0m \u001b[0;34m+\u001b[0m \u001b[0mj\u001b[0m \u001b[0;34m>\u001b[0m\u001b[0;36m0\u001b[0m \u001b[0;32mand\u001b[0m  \u001b[0mself\u001b[0m\u001b[0;34m.\u001b[0m\u001b[0mvalid_state\u001b[0m\u001b[0;34m(\u001b[0m\u001b[0mself\u001b[0m\u001b[0;34m.\u001b[0m\u001b[0mresult\u001b[0m\u001b[0;34m(\u001b[0m \u001b[0mstate\u001b[0m\u001b[0;34m,\u001b[0m \u001b[0;34m(\u001b[0m\u001b[0mi\u001b[0m\u001b[0;34m,\u001b[0m\u001b[0mj\u001b[0m\u001b[0;34m)\u001b[0m\u001b[0;34m)\u001b[0m\u001b[0;34m)\u001b[0m\u001b[0;34m==\u001b[0m\u001b[0;32mTrue\u001b[0m \u001b[0;34m]\u001b[0m\u001b[0;34m\u001b[0m\u001b[0m\n\u001b[0m\u001b[1;32m     73\u001b[0m         \u001b[0;32mreturn\u001b[0m \u001b[0mactions\u001b[0m\u001b[0;34m\u001b[0m\u001b[0m\n\u001b[1;32m     74\u001b[0m \u001b[0;34m\u001b[0m\u001b[0m\n",
            "\u001b[0;32m<ipython-input-72-64964f352bef>\u001b[0m in \u001b[0;36m<listcomp>\u001b[0;34m(.0)\u001b[0m\n\u001b[1;32m     70\u001b[0m         state.\"\"\"\n\u001b[1;32m     71\u001b[0m \u001b[0;34m\u001b[0m\u001b[0m\n\u001b[0;32m---> 72\u001b[0;31m         \u001b[0mactions\u001b[0m \u001b[0;34m=\u001b[0m \u001b[0;34m[\u001b[0m\u001b[0;34m(\u001b[0m\u001b[0mi\u001b[0m\u001b[0;34m,\u001b[0m\u001b[0mj\u001b[0m\u001b[0;34m)\u001b[0m \u001b[0;32mfor\u001b[0m \u001b[0mi\u001b[0m \u001b[0;32min\u001b[0m \u001b[0mrange\u001b[0m\u001b[0;34m(\u001b[0m\u001b[0;36m3\u001b[0m\u001b[0;34m)\u001b[0m \u001b[0;32mfor\u001b[0m \u001b[0mj\u001b[0m \u001b[0;32min\u001b[0m \u001b[0mrange\u001b[0m\u001b[0;34m(\u001b[0m\u001b[0;36m3\u001b[0m\u001b[0;34m)\u001b[0m  \u001b[0;32mif\u001b[0m \u001b[0mi\u001b[0m \u001b[0;34m+\u001b[0m \u001b[0mj\u001b[0m  \u001b[0;34m<=\u001b[0m\u001b[0;36m2\u001b[0m \u001b[0;32mand\u001b[0m \u001b[0mi\u001b[0m \u001b[0;34m+\u001b[0m \u001b[0mj\u001b[0m \u001b[0;34m>\u001b[0m\u001b[0;36m0\u001b[0m \u001b[0;32mand\u001b[0m  \u001b[0mself\u001b[0m\u001b[0;34m.\u001b[0m\u001b[0mvalid_state\u001b[0m\u001b[0;34m(\u001b[0m\u001b[0mself\u001b[0m\u001b[0;34m.\u001b[0m\u001b[0mresult\u001b[0m\u001b[0;34m(\u001b[0m \u001b[0mstate\u001b[0m\u001b[0;34m,\u001b[0m \u001b[0;34m(\u001b[0m\u001b[0mi\u001b[0m\u001b[0;34m,\u001b[0m\u001b[0mj\u001b[0m\u001b[0;34m)\u001b[0m\u001b[0;34m)\u001b[0m\u001b[0;34m)\u001b[0m\u001b[0;34m==\u001b[0m\u001b[0;32mTrue\u001b[0m \u001b[0;34m]\u001b[0m\u001b[0;34m\u001b[0m\u001b[0m\n\u001b[0m\u001b[1;32m     73\u001b[0m         \u001b[0;32mreturn\u001b[0m \u001b[0mactions\u001b[0m\u001b[0;34m\u001b[0m\u001b[0m\n\u001b[1;32m     74\u001b[0m \u001b[0;34m\u001b[0m\u001b[0m\n",
            "\u001b[0;32m<ipython-input-72-64964f352bef>\u001b[0m in \u001b[0;36mresult\u001b[0;34m(self, state, action)\u001b[0m\n\u001b[1;32m     54\u001b[0m             \u001b[0mnew_state\u001b[0m\u001b[0;34m[\u001b[0m\u001b[0;36m0\u001b[0m\u001b[0;34m]\u001b[0m \u001b[0;34m=\u001b[0m \u001b[0;34m'D'\u001b[0m\u001b[0;34m\u001b[0m\u001b[0m\n\u001b[1;32m     55\u001b[0m             \u001b[0mnew_state\u001b[0m\u001b[0;34m[\u001b[0m\u001b[0;36m1\u001b[0m\u001b[0;34m]\u001b[0m \u001b[0;34m-=\u001b[0m \u001b[0maction\u001b[0m\u001b[0;34m[\u001b[0m\u001b[0;36m0\u001b[0m\u001b[0;34m]\u001b[0m\u001b[0;34m\u001b[0m\u001b[0m\n\u001b[0;32m---> 56\u001b[0;31m             \u001b[0mnew_state\u001b[0m\u001b[0;34m[\u001b[0m\u001b[0;36m2\u001b[0m\u001b[0;34m]\u001b[0m \u001b[0;34m-=\u001b[0m \u001b[0maction\u001b[0m\u001b[0;34m[\u001b[0m\u001b[0;36m1\u001b[0m\u001b[0;34m]\u001b[0m\u001b[0;34m\u001b[0m\u001b[0m\n\u001b[0m\u001b[1;32m     57\u001b[0m             \u001b[0mnew_state\u001b[0m\u001b[0;34m[\u001b[0m\u001b[0;36m3\u001b[0m\u001b[0;34m]\u001b[0m \u001b[0;34m+=\u001b[0m \u001b[0maction\u001b[0m\u001b[0;34m[\u001b[0m\u001b[0;36m0\u001b[0m\u001b[0;34m]\u001b[0m\u001b[0;34m\u001b[0m\u001b[0m\n\u001b[1;32m     58\u001b[0m             \u001b[0mnew_state\u001b[0m\u001b[0;34m[\u001b[0m\u001b[0;36m4\u001b[0m\u001b[0;34m]\u001b[0m \u001b[0;34m+=\u001b[0m \u001b[0maction\u001b[0m\u001b[0;34m[\u001b[0m\u001b[0;36m1\u001b[0m\u001b[0;34m]\u001b[0m\u001b[0;34m\u001b[0m\u001b[0m\n",
            "\u001b[0;31mKeyboardInterrupt\u001b[0m: "
          ]
        }
      ]
    },
    {
      "metadata": {
        "id": "QqBQnQzvgXvC",
        "colab_type": "code",
        "colab": {
          "base_uri": "https://localhost:8080/",
          "height": 34
        },
        "outputId": "3e9ae0e4-f9d0-4c6f-e441-15f3565ffd72"
      },
      "cell_type": "code",
      "source": [
        "nodo.depth"
      ],
      "execution_count": 0,
      "outputs": [
        {
          "output_type": "execute_result",
          "data": {
            "text/plain": [
              "11"
            ]
          },
          "metadata": {
            "tags": []
          },
          "execution_count": 78
        }
      ]
    },
    {
      "metadata": {
        "id": "RUA4_0dzgkFG",
        "colab_type": "code",
        "colab": {}
      },
      "cell_type": "code",
      "source": [
        ""
      ],
      "execution_count": 0,
      "outputs": []
    }
  ]
}