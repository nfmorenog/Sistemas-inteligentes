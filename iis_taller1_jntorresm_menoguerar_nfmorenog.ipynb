{
  "nbformat": 4,
  "nbformat_minor": 0,
  "metadata": {
    "colab": {
      "name": "iis-taller1-jntorresm-menoguerar-nfmorenog.ipynb",
      "version": "0.3.2",
      "provenance": [],
      "collapsed_sections": []
    },
    "kernelspec": {
      "display_name": "Python 3",
      "language": "python",
      "name": "python3"
    }
  },
  "cells": [
    {
      "metadata": {
        "id": "lXgh7USwwzEN",
        "colab_type": "text"
      },
      "cell_type": "markdown",
      "source": [
        "# Taller 1\n",
        "## Introducción a los sistemas inteligentes 2018-2\n",
        "\n",
        "**Fecha límite de entrega**: _Viernes 21 de Septiembre_ antes de la medianoche (ver instrucciones de envío al final)\n",
        "\n",
        "Integrantes del grupo (máximo 3):\n",
        "\n",
        "* Nelson Felipe Moreno Gómez  -      ID: 1019080706\n",
        "* Marlon Enrique Noguera Ramirez - ID: 1014271313\n",
        "* Johan Nicolas Torres Mendoza - ID:\n",
        "\n",
        "___________\n",
        "\n",
        "## Cuadrado de Rubik (o Cubo de Rubik 2D)\n",
        "\n",
        "El *Cuadrado de Rubik* es un rompecabezas inspirado en el famoso cubo de Rubik. Consiste de un arreglo de 16 fichas organizadas en una matriz de $4\\times 4$ como se ilustra en la siguiente figura:\n",
        "\n",
        "<img src=\"https://raw.githubusercontent.com/fagonzalezo/iis-2018-2/master/rubik2D.png\" \n",
        "alt=\"Cuadrado de Rubik \" width=\"240\" height=\"180\" border=\"10\" />\n",
        "\n",
        "Los colores son ilustrativos, lo importante es el número en cada una de las fichas. Se pueden hacer 10 movimientos diferentes correspondientes a rotar las 4 fichas alrededor de cada uno de los puntos A, B, C, D y E en el sentido de las manecillas del reloj o en el sentido opuesto.\n",
        "\n",
        "Su objetivo es modelar el *Cuadrado de Rubik* como un problema de búsqueda y resolverlo usando diferentes algoritmos de búsqueda.\n",
        "\n",
        "_________\n"
      ]
    },
    {
      "metadata": {
        "id": "rrA5cbVawzEO",
        "colab_type": "text"
      },
      "cell_type": "markdown",
      "source": [
        "### 1. Cree una clase para modelar el problema del Cuadrado de Rubik"
      ]
    },
    {
      "metadata": {
        "id": "hxUd8pyVwzEP",
        "colab_type": "text"
      },
      "cell_type": "markdown",
      "source": [
        "Un Cuadrado de Rubik debe representarse como una lista con valores enteros que representan cada una de las fichas.\n",
        "\n",
        "Por ejemplo un Cuadrado de Rubik resuelto debe verse así:\n",
        "\n",
        "```python\n",
        "[ 1,  2,  3,  4,\n",
        "  5,  6,  7,  8,\n",
        "  9, 10, 11, 12,\n",
        " 13, 14, 15, 16]\n",
        "```"
      ]
    },
    {
      "metadata": {
        "id": "W_G-EeJ1wzEQ",
        "colab_type": "text"
      },
      "cell_type": "markdown",
      "source": [
        "#### Definición de acciones\n",
        "\n",
        "La siguiente lista define las posibles acciones que se pueden ejecutar:"
      ]
    },
    {
      "metadata": {
        "id": "xqr7GYHrwzER",
        "colab_type": "code",
        "colab": {
          "base_uri": "https://localhost:8080/",
          "height": 54
        },
        "outputId": "278f4806-489f-4660-df14-31bdd4d351b8"
      },
      "cell_type": "code",
      "source": [
        "'''\n",
        "These values MUST not be changed.\n",
        "They represent the movements of the Rubik's Square.\n",
        "actions = [\"A+\", \"A-\", \"B+\", \"B-\", \"C+\", \"C-\", \"D+\", \"D-\", \"E+\", \"E-\"]\n",
        "\n",
        "'''\n"
      ],
      "execution_count": 0,
      "outputs": [
        {
          "output_type": "execute_result",
          "data": {
            "text/plain": [
              "'\\nThese values MUST not be changed.\\nThey represent the movements of the Rubik\\'s Square.\\nactions = [\"A+\", \"A-\", \"B+\", \"B-\", \"C+\", \"C-\", \"D+\", \"D-\", \"E+\", \"E-\"]\\n\\n'"
            ]
          },
          "metadata": {
            "tags": []
          },
          "execution_count": 1
        }
      ]
    },
    {
      "metadata": {
        "id": "BQRx6KWSwzET",
        "colab_type": "text"
      },
      "cell_type": "markdown",
      "source": [
        "Cada acción indica la posición y el sentido. Por ejemplo, `'C-'` rota la posición C en el sentido opuesto de las manecillas del reloj. Si aplicamos esta acción al estado solución se obtiene el estado:\n",
        "\n",
        "```python\n",
        "[ 1,  2,  3,  4,\n",
        "  5,  7, 11,  8,\n",
        "  9,  6, 10, 12,\n",
        " 13, 14, 15, 16]\n",
        "```\n",
        "\n",
        "Si sobre este estado, aplicamos la acción `'D+'` obtenemos:\n",
        "\n",
        "```python\n",
        "[ 1,  2,  3,  4,\n",
        "  5,  7, 11,  8,\n",
        "  9,  6, 15, 10,\n",
        " 13, 14, 16, 12]\n",
        "```"
      ]
    },
    {
      "metadata": {
        "id": "kpD0p38awzET",
        "colab_type": "text"
      },
      "cell_type": "markdown",
      "source": [
        "#### Clase Rubik2D_problem"
      ]
    },
    {
      "metadata": {
        "id": "EWaVnEMG2Rhc",
        "colab_type": "code",
        "colab": {
          "base_uri": "https://localhost:8080/",
          "height": 85
        },
        "outputId": "7e1e3dba-11b7-47c7-df60-84d253fe45d0"
      },
      "cell_type": "code",
      "source": [
        "!wget https://raw.githubusercontent.com/aimacode/aima-python/master/search.py\n",
        "!wget https://raw.githubusercontent.com/aimacode/aima-python/master/utils.py\n",
        "  \n",
        "import math\n",
        "import time\n",
        "import utils\n",
        "import random\n"
      ],
      "execution_count": 1,
      "outputs": [
        {
          "output_type": "stream",
          "text": [
            "\n",
            "Redirecting output to ‘wget-log’.\n",
            "\n",
            "Redirecting output to ‘wget-log.1’.\n"
          ],
          "name": "stdout"
        }
      ]
    },
    {
      "metadata": {
        "id": "hdExvT-5wzEV",
        "colab_type": "code",
        "colab": {}
      },
      "cell_type": "code",
      "source": [
        "import search\n",
        "\n",
        "class rubik2d_problem(search.Problem):\n",
        "    #mover fichas a la derecha\n",
        "    def right(self,state,i): \n",
        "        new_state = list(state)\n",
        "        new_state[i]=state[i+4]\n",
        "        new_state[i+1]=state[i]\n",
        "        new_state[i+4]=state[i+5]\n",
        "        new_state[i+5]=state[i+1]\n",
        "        \n",
        "        return tuple(new_state)\n",
        "      \n",
        "    #mover fichas a la izquierda\n",
        "    def left(self,state,i):\n",
        "        new_state = list(state)\n",
        "        new_state[i]=state[i+1]\n",
        "        new_state[i+1]=state[i+5]\n",
        "        new_state[i+4]=state[i]\n",
        "        new_state[i+5]=state[i+4]\n",
        "        \n",
        "        return tuple(new_state)\n",
        "\n",
        "      \n",
        "#actions = [\"A+\", \"A-\", \"B+\", \"B-\", \"C+\", \"C-\", \"D+\", \"D-\", \"E+\", \"E-\"]\n",
        "#Switch-case con todas las posibles acciones\n",
        "    def number_action(self,action,state):\n",
        "        new_state = []\n",
        "      \n",
        "        switcher = {\n",
        "            \"A+\": self.right(state,0),   \n",
        "            \"A-\": self.left(state,0),    \n",
        "            \"B+\": self.right(state,2),   \n",
        "            \"B-\": self.left(state,2),  \n",
        "            \"C+\": self.right(state,5),   \n",
        "            \"C-\": self.left(state,5),   \n",
        "            \"D+\": self.right(state,8),    \n",
        "            \"D-\": self.left(state,8),  \n",
        "            \"E+\": self.right(state,10),  \n",
        "            \"E-\": self.left(state,10)    \n",
        "        }\n",
        "        # Get the function from switcher dictionary\n",
        "        func = switcher.get(action, lambda: \"Invalid Action\")        \n",
        "        # Execute the function\n",
        "        return tuple(func)\n",
        "    \n",
        "    \n",
        "    def __init__(self, startState):\n",
        "        \n",
        "        super().__init__(tuple(startState))\n",
        "        self.expanded = 0\n",
        "    \n",
        "      \n",
        "      \n",
        "    def goal_test(self, state):\n",
        "        \n",
        "        # Your code here\n",
        "        \n",
        "        if list(state) == [ 1,  2,  3,  4,  5,  6,  7,  8,  9, 10, 11, 12, 13, 14, 15, 16]:\n",
        "          return True\n",
        "        return False\n",
        "    \n",
        "    def getStartState(self):\n",
        "        \n",
        "        # Your code here\n",
        "        return self.initial\n",
        "\n",
        "    def actions(self, state):\n",
        "        \n",
        "        # Your code here\n",
        "        actions = [\"A+\", \"A-\", \"B+\", \"B-\", \"C+\", \"C-\", \"D+\", \"D-\", \"E+\", \"E-\"]\n",
        "        return actions\n",
        "\n",
        "    def result(self, state, action):\n",
        "        # Your code here\n",
        "        self.expanded += 1\n",
        "        new_state = list(state)\n",
        "        \n",
        "        new_state = self.number_action(action,new_state)\n",
        "        return tuple(new_state)\n",
        "\n",
        "        \n",
        "                          \n",
        "    def path_cost(self, c, state1, action, state2):\n",
        "        # Your code here\n",
        "        return c+1"
      ],
      "execution_count": 0,
      "outputs": []
    },
    {
      "metadata": {
        "id": "NEC2fp9XwzEX",
        "colab_type": "text"
      },
      "cell_type": "markdown",
      "source": [
        "### 2. Evalue su código con diferentes estrategias de búsqueda\n",
        "\n"
      ]
    },
    {
      "metadata": {
        "id": "a2O0wP99wzEY",
        "colab_type": "code",
        "colab": {
          "base_uri": "https://localhost:8080/",
          "height": 156
        },
        "outputId": "c29e4245-1627-4565-d295-cb39f081c31c"
      },
      "cell_type": "code",
      "source": [
        "def bfs(problem):\n",
        "    nodo = search.breadth_first_tree_search(problem)\n",
        "    states = nodo.path()\n",
        "    solution = nodo.solution()\n",
        "    return (solution,states)\n",
        "\n",
        "def iterativeDeepeningSearch(problem):\n",
        "    nodo = search.iterative_deepening_search(problem)\n",
        "    states = nodo.path()\n",
        "    solution = nodo.solution()\n",
        "    return (solution,states)\n",
        "\n",
        "start_state = [1, 2, 7, 3, 5, 9, 6, 4, 13, 11, 12, 16, 14, 10, 8, 15]\n",
        "problemA = rubik2d_problem(start_state)\n",
        "\n",
        "a = time.time()\n",
        "actions = bfs(problemA)\n",
        "b=time.time()\n",
        "print(\"Busqueda con BFS\")\n",
        "print(actions,\"\\n\",\"Tiempo-->\",b-a,\"expansiones-->\",problemA.expanded,\"\\n\")\n",
        "\n",
        "problemB = rubik2d_problem(start_state)\n",
        "\n",
        "a = time.time()\n",
        "actions = iterativeDeepeningSearch(problemB)\n",
        "b=time.time()\n",
        "print(\"Busqueda con iterativeDeepeningSearch\")\n",
        "print(actions,\"\\n\",\"Tiempo-->\",b-a,\"expansiones-->\",problemB.expanded)\n",
        "\n"
      ],
      "execution_count": 3,
      "outputs": [
        {
          "output_type": "stream",
          "text": [
            "Busqueda con BFS\n",
            "(['E+', 'C-', 'B-', 'D-'], [<Node (1, 2, 7, 3, 5, 9, 6, 4, 13, 11, 12, 16, 14, 10, 8, 15)>, <Node (1, 2, 7, 3, 5, 9, 6, 4, 13, 11, 8, 12, 14, 10, 15, 16)>, <Node (1, 2, 7, 3, 5, 6, 8, 4, 13, 9, 11, 12, 14, 10, 15, 16)>, <Node (1, 2, 3, 4, 5, 6, 7, 8, 13, 9, 11, 12, 14, 10, 15, 16)>, <Node (1, 2, 3, 4, 5, 6, 7, 8, 9, 10, 11, 12, 13, 14, 15, 16)>]) \n",
            " Tiempo--> 1.4792861938476562 expansiones--> 96480 \n",
            "\n",
            "Busqueda con iterativeDeepeningSearch\n",
            "(['E+', 'C-', 'B-', 'D-'], [<Node (1, 2, 7, 3, 5, 9, 6, 4, 13, 11, 12, 16, 14, 10, 8, 15)>, <Node (1, 2, 7, 3, 5, 9, 6, 4, 13, 11, 8, 12, 14, 10, 15, 16)>, <Node (1, 2, 7, 3, 5, 6, 8, 4, 13, 9, 11, 12, 14, 10, 15, 16)>, <Node (1, 2, 3, 4, 5, 6, 7, 8, 13, 9, 11, 12, 14, 10, 15, 16)>, <Node (1, 2, 3, 4, 5, 6, 7, 8, 9, 10, 11, 12, 13, 14, 15, 16)>]) \n",
            " Tiempo--> 0.14380502700805664 expansiones--> 10730\n"
          ],
          "name": "stdout"
        }
      ]
    },
    {
      "metadata": {
        "id": "IJII7Sx3wzEd",
        "colab_type": "text"
      },
      "cell_type": "markdown",
      "source": [
        "Evaluelo para ver cuál es la máxima profundidad que se puede alcanzar en un tiempo razonable con cada estrategia de búsqueda. Reporte los resultados."
      ]
    },
    {
      "metadata": {
        "id": "nUVKyrq9wzEe",
        "colab_type": "text"
      },
      "cell_type": "markdown",
      "source": [
        "### 3. Implemente diferente heurísticas para el problema"
      ]
    },
    {
      "metadata": {
        "id": "u_XyMco-wzEe",
        "colab_type": "text"
      },
      "cell_type": "markdown",
      "source": [
        "Implemente al menos dos heurísticas admisibles y consistentes. Compare A * usando la heurística contra IDS calculando el número de nodos expandidos y el factor de ramificación efectivo, de la misma forma como se hace en la figura 3.29 de [Russell10]."
      ]
    },
    {
      "metadata": {
        "id": "Z3Ntyq269_7b",
        "colab_type": "text"
      },
      "cell_type": "markdown",
      "source": [
        "### Implementacion de A*"
      ]
    },
    {
      "metadata": {
        "id": "KsAlOeAu96E4",
        "colab_type": "code",
        "colab": {}
      },
      "cell_type": "code",
      "source": [
        "#### A*\n",
        "def general_search(problem, frontier):\n",
        "    visited = {}\n",
        "\n",
        "    state = problem.getStartState()\n",
        "    frontier.append((state, [], 0))\n",
        "    ##print(frontier)\n",
        "    while frontier: # Repita mientras hay elementos en la frontera\n",
        "\n",
        "        u, actions, path_cost = frontier.pop()\n",
        "\n",
        "        if problem.goal_test(u):\n",
        "            return  actions\n",
        "        if not u in visited:\n",
        "            for action in problem.actions(u):\n",
        "                v = problem.result(u, action)\n",
        "                new_path_cost = problem.path_cost(path_cost, u, action, v)\n",
        "                cost = new_path_cost - path_cost\n",
        "\n",
        "\n",
        "\n",
        "                frontier.append((v, actions + [action], path_cost + cost))\n",
        "        visited[u] = 'black'\n",
        "\n",
        "    return []\n",
        "\n",
        "\n",
        "def nullHeuristic(state):\n",
        "    return 0\n",
        "\n",
        "def aStarSearch(problem, heuristic=nullHeuristic):\n",
        "    def f_cost(item):\n",
        "        return item[2] + heuristic(item[0])\n",
        "\n",
        "    return general_search(problem, utils.PriorityQueue(f = f_cost))\n",
        "  \n",
        "  "
      ],
      "execution_count": 0,
      "outputs": []
    },
    {
      "metadata": {
        "id": "1vX-QnSs-J5Q",
        "colab_type": "text"
      },
      "cell_type": "markdown",
      "source": [
        "## Heuristicas"
      ]
    },
    {
      "metadata": {
        "id": "atm03s4NwzEe",
        "colab_type": "code",
        "colab": {}
      },
      "cell_type": "code",
      "source": [
        "\n",
        "\n",
        "#HEuristica 1 ---> calcula el error respecto a su posición actual\n",
        "def myHeuristic1(state):\n",
        "    ### your code here ###    \n",
        "    j  = 0\n",
        "    \n",
        "    for i in range(len(state)):\n",
        "        j = j + math.fabs(state[i]-i)\n",
        "\n",
        "    return j\n",
        "\n",
        "pos = [(0,0),(0,1),(0,2),(0,3),(1,0),(1,1),(1,2),(1,3),(2,0),(2,1),(2,2),(2,3),(3,0),(3,1),(3,2),(3,3)]\n",
        "#HEuristica 2 (Manhattan distance) ---> mide el acumulado de llevar cada \"color\" a su pos correcta \n",
        "def myHeuristic2(state):\n",
        "    ### your code here ###\n",
        "    \n",
        "    a = 0\n",
        "    def calPos(n):\n",
        "        return pos[n-1]\n",
        "\n",
        "    for i in range(len(state)):\n",
        "        a = a + math.fabs(pos[i][0]-calPos(state[i])[0])+math.fabs(pos[i][1]-calPos(state[i])[1])\n",
        "    return int(a)\n",
        "\n",
        "#Distancia euclidiana\n",
        "def myHeuristic3(state):\n",
        "  \n",
        "  a = 0\n",
        "  def calPos(n):\n",
        "        return pos[n-1]\n",
        "  for i in range(len(state)):\n",
        "    a = a + math.sqrt((pos[i][0]-calPos(state[i])[0])**2 +(pos[i][1]-calPos(state[i])[1])**2)\n",
        "  \n",
        "  return a\n",
        "  "
      ],
      "execution_count": 0,
      "outputs": []
    },
    {
      "metadata": {
        "id": "ygVOu3ibzLTO",
        "colab_type": "text"
      },
      "cell_type": "markdown",
      "source": [
        "### Heuristica con algoritmo floyd warshall\n",
        "\n",
        "Se crea un nodo que reprecente el juego, se calcula la matriz de adyacencia y con esta se da el total de movimientos de llevar una ficha a su posición correcta \n",
        "\n"
      ]
    },
    {
      "metadata": {
        "id": "zXeazBITy6p_",
        "colab_type": "code",
        "colab": {}
      },
      "cell_type": "code",
      "source": [
        "G = {'a': {'b': 1, 'e': 1}, 'b': {'a': 1, 'f': 1},'c': {'d': 1, 'g': 1},'d': {'c': 1, 'h': 1}, 'e': {'a': 1, 'f': 1},\n",
        "     'f': {'e': 1, 'b': 1, 'g': 1, 'j':1}, 'g': {'c': 1, 'h': 1, 'f': 1, 'k': 1}, 'h': {'g': 1, 'd': 1},'i': {'j': 1, 'm': 1},\n",
        "    'j': {'i': 1, 'n': 1, 'k': 1,'f':1}, 'k': {'o': 1, 'l': 1, 'g': 1, 'j': 1}, 'l': {'p': 1, 'k': 1},\n",
        "     'm': {'i': 1, 'n': 1}, 'n': {'m': 1, 'j': 1}, 'o': {'k': 1, 'p': 1}, 'p': {'o': 1, 'l': 1}}\n",
        "\n",
        "def FloydWarshall(G):\n",
        "    A = []  # A= (a_{ij}) n×n adjacency matrix of the digraph G\n",
        "\n",
        "    for u in G:\n",
        "        Au = []  # row of A correponding to vertex u\n",
        "        for v in G:\n",
        "            if v in G[u]:\n",
        "                Au.append(G[u][v])\n",
        "            elif u == v:\n",
        "                Au.append(0)\n",
        "            else:\n",
        "                Au.append(float(\"inf\"))\n",
        "        A.append(Au)\n",
        "\n",
        "    Cnext = A\n",
        "\n",
        "    for k in range(len(G)):\n",
        "        C = Cnext\n",
        "        for i in range(len(G)):\n",
        "            for j in range(len(G)):\n",
        "                if C[i][j] > C[i][k] + C[k][j]:\n",
        "                    Cnext[i][j] = C[i][k] + C[k][j]\n",
        "    return Cnext\n",
        "\n",
        "F = tuple(FloydWarshall(G)) # Se calcula la matriz de adyacencia y con esta se da el total de movimientos de llevar una ficha a su posición correcta \n",
        "\n",
        "def myHeuristic4(state):\n",
        "\n",
        "    pos = [1,2,3,4,5,6,7,8,9,10,11,12,13,14,15,16]\n",
        "    a = 0\n",
        "\n",
        "    def calPos(n):\n",
        "        return pos[n - 1]\n",
        "\n",
        "    for i in range(len(state)):\n",
        "        a = a + F[calPos(state[i])-1][pos[i]-1] \n",
        "        \n",
        "    return a"
      ],
      "execution_count": 0,
      "outputs": []
    },
    {
      "metadata": {
        "id": "MpTt2k-w06sE",
        "colab_type": "text"
      },
      "cell_type": "markdown",
      "source": [
        "# Pruebas"
      ]
    },
    {
      "metadata": {
        "id": "lT-e8zEWwzEh",
        "colab_type": "code",
        "colab": {
          "base_uri": "https://localhost:8080/",
          "height": 1037
        },
        "outputId": "6544ce17-af13-4dfc-b65d-84a93a0a4e65"
      },
      "cell_type": "code",
      "source": [
        "pruebas = [[1, 2, 7, 3, 5, 9, 6, 4, 13, 11, 12, 16, 14, 10, 8, 15],\n",
        "           [1, 2, 7, 3, 5, 9, 6, 4, 11, 10, 12, 16, 13, 14, 8, 15],\n",
        "           [2, 7, 4, 8, 1, 5, 3, 11, 14, 13, 15, 10, 6, 9, 16, 12]]\n",
        "\n",
        "\n",
        "for i in range(len(pruebas)):\n",
        "  print(\"------------------------------------- PRUEBA \",i+1,\" ------------------------------------- \")\n",
        "  start_state=pruebas[i]\n",
        "  #BFS\n",
        "  problem = rubik2d_problem(start_state)\n",
        "  a = time.time()\n",
        "  actions = bfs(problem)\n",
        "  b=time.time()\n",
        "  print(\"Busqueda con BFS: \\nActions-->\",actions[0],\" \",\"Tiempo-->\",b-a,\" Expansiones-->\",problem.expanded,\"\\n\")\n",
        "\n",
        "  #IterativeDeepeningSearch\n",
        "  a = time.time()\n",
        "  actions = iterativeDeepeningSearch(problem)\n",
        "  b=time.time()\n",
        "  print(\"Busqueda con IterativeDeepeningSearch \\nActions-->\",actions[0],\" \",\"Tiempo-->\",b-a,\" Expansiones-->\",problem.expanded,\"\\n\")\n",
        "\n",
        "  #HEuristica 1\n",
        "  problem = rubik2d_problem(start_state)\n",
        "  a = time.time()\n",
        "  actions =aStarSearch(problem, myHeuristic1)\n",
        "  b=time.time()\n",
        "  print(\"Heuristica1 \\nActions-->\",actions,\" \",\"Tiempo-->\",b-a,\" Expansiones-->\",problem.expanded,\"\\n\")\n",
        "\n",
        "\n",
        "  #HEuristica 2 ---> Manhattan distance\n",
        "  problem = rubik2d_problem(start_state)\n",
        "  a = time.time()\n",
        "  actions =aStarSearch(problem, myHeuristic2)\n",
        "  b=time.time()\n",
        "  print(\"Manhattan distance \\nActions-->\",actions,\" \",\"Tiempo-->\",b-a,\" Expansiones-->\",problem.expanded,\"\\n\")\n",
        "\n",
        "  #HEuristica 3 ---> Distancia euclidiana\n",
        "  problem = rubik2d_problem(start_state)\n",
        "  a = time.time()\n",
        "  actions =aStarSearch(problem, myHeuristic3)\n",
        "  b=time.time()\n",
        "  print(\"Distancia euclidiana \\nActions-->\",actions,\" \",\"Tiempo-->\",b-a,\" Expansiones-->\",problem.expanded,\"\\n\")\n",
        "\n",
        "\n",
        "  #HEuristica 4 ---> Matriz de adyacencia\n",
        "  problem = rubik2d_problem(start_state)\n",
        "  a = time.time()\n",
        "  actions =aStarSearch(problem, myHeuristic4)\n",
        "  b=time.time()\n",
        "  print(\"Matriz de adyacencia \\nActions-->\",actions,\" \",\"Tiempo-->\",b-a,\" Expansiones-->\",problem.expanded,\"\\n\\n\")\n",
        "\n",
        "time.sleep(2)\n",
        "\n"
      ],
      "execution_count": 0,
      "outputs": [
        {
          "output_type": "stream",
          "text": [
            "------------------------------------- PRUEBA  1  ------------------------------------- \n",
            "Busqueda con BFS: \n",
            "Actions--> ['E+', 'C-', 'B-', 'D-']   Tiempo--> 1.2385694980621338  Expansiones--> 96480 \n",
            "\n",
            "Busqueda con IterativeDeepeningSearch \n",
            "Actions--> ['E+', 'C-', 'B-', 'D-']   Tiempo--> 0.14110255241394043  Expansiones--> 107210 \n",
            "\n",
            "Heuristica1 \n",
            "Actions--> ['E+', 'C-', 'B-', 'D-']   Tiempo--> 0.010385990142822266  Expansiones--> 620 \n",
            "\n",
            "Manhattan distance \n",
            "Actions--> ['E+', 'C-', 'B-', 'D-']   Tiempo--> 0.0010876655578613281  Expansiones--> 40 \n",
            "\n",
            "Distancia euclidiana \n",
            "Actions--> ['E+', 'C-', 'B-', 'D-']   Tiempo--> 0.0014743804931640625  Expansiones--> 40 \n",
            "\n",
            "Matriz de adyacencia \n",
            "Actions--> ['E+', 'C-', 'B-', 'D-']   Tiempo--> 0.0007834434509277344  Expansiones--> 40 \n",
            "\n",
            "\n",
            "------------------------------------- PRUEBA  2  ------------------------------------- \n",
            "Busqueda con BFS: \n",
            "Actions--> ['D+', 'E+', 'C-', 'B-', 'D-']   Tiempo--> 13.13445782661438  Expansiones--> 796480 \n",
            "\n",
            "Busqueda con IterativeDeepeningSearch \n",
            "Actions--> ['D+', 'E+', 'C-', 'B-', 'D-']   Tiempo--> 1.1073675155639648  Expansiones--> 884990 \n",
            "\n",
            "Heuristica1 \n",
            "Actions--> ['E+', 'C-', 'B-', 'C+', 'D+', 'C-', 'D-']   Tiempo--> 0.0441133975982666  Expansiones--> 2390 \n",
            "\n",
            "Manhattan distance \n",
            "Actions--> ['E+', 'C-', 'B-', 'C+', 'D+', 'C-', 'D-']   Tiempo--> 0.005548715591430664  Expansiones--> 200 \n",
            "\n",
            "Distancia euclidiana \n",
            "Actions--> ['E+', 'C-', 'B-', 'C+', 'D+', 'C-', 'D-']   Tiempo--> 0.011927366256713867  Expansiones--> 330 \n",
            "\n",
            "Matriz de adyacencia \n",
            "Actions--> ['E+', 'C-', 'B-', 'C+', 'D+', 'C-', 'D-']   Tiempo--> 0.0035524368286132812  Expansiones--> 200 \n",
            "\n",
            "\n",
            "------------------------------------- PRUEBA  3  ------------------------------------- \n",
            "Busqueda con BFS: \n",
            "Actions--> ['A+', 'B+', 'D+', 'D+', 'E-', 'C+']   Tiempo--> 20.41665816307068  Expansiones--> 1378050 \n",
            "\n",
            "Busqueda con IterativeDeepeningSearch \n",
            "Actions--> ['A+', 'B+', 'D+', 'D+', 'E-', 'C+']   Tiempo--> 1.8890492916107178  Expansiones--> 1531190 \n",
            "\n",
            "Heuristica1 \n",
            "Actions--> ['D+', 'E-', 'A+', 'B+', 'D+', 'C+']   Tiempo--> 0.0009884834289550781  Expansiones--> 60 \n",
            "\n",
            "Manhattan distance \n",
            "Actions--> ['A+', 'B+', 'D+', 'E-', 'D+', 'C+']   Tiempo--> 0.0015277862548828125  Expansiones--> 60 \n",
            "\n",
            "Distancia euclidiana \n",
            "Actions--> ['E-', 'A+', 'B+', 'D+', 'D+', 'C+']   Tiempo--> 0.0024449825286865234  Expansiones--> 70 \n",
            "\n",
            "Matriz de adyacencia \n",
            "Actions--> ['A+', 'B+', 'D+', 'E-', 'D+', 'C+']   Tiempo--> 0.0010578632354736328  Expansiones--> 60 \n",
            "\n",
            "\n"
          ],
          "name": "stdout"
        }
      ]
    },
    {
      "metadata": {
        "id": "1FGvZSFUMknW",
        "colab_type": "text"
      },
      "cell_type": "markdown",
      "source": [
        "#Comparación de costo de búsqueda y factor de ramificación efectivo "
      ]
    },
    {
      "metadata": {
        "id": "apdJbq5GTRyE",
        "colab_type": "code",
        "colab": {
          "base_uri": "https://localhost:8080/",
          "height": 955
        },
        "outputId": "70c30a66-e819-47b8-f312-fc78acfabf4e"
      },
      "cell_type": "code",
      "source": [
        "\n",
        "for i in range(14,26):\n",
        "  actions0 = [\"A+\", \"A-\", \"B+\", \"B-\", \"C+\", \"C-\", \"D+\", \"D-\", \"E+\", \"E-\"]\n",
        "  if i % 2 ==0:\n",
        "    start_state=[1,2,3,4,5,6,7,8,9,10,11,12,13,14,15,16]\n",
        "    problem0 = rubik2d_problem(start_state)\n",
        "    for j in range(i):\n",
        "      random_pos = random.randint(0, 8)\n",
        "      rand_action = actions0[random_pos+1]\n",
        "      \n",
        "      start_state = problem0.result(start_state,rand_action)\n",
        "      \n",
        "    print(start_state)\n",
        "    print(\"prueba con d=\",i)\n",
        "    \"\"\"\n",
        "    #IterativeDeepeningSearch\n",
        "    problem = rubik2d_problem(start_state)\n",
        "    a = time.time()\n",
        "    actions = iterativeDeepeningSearch(problem)\n",
        "    b=time.time()\n",
        "    print(\"Busqueda con IterativeDeepeningSearch \\nActions-->\",actions[0],\" \",\"depth-->\",len(actions[0]),\" \",\"Tiempo-->\",b-a,\" Expansiones-->\",problem.expanded,\"\\n\")\n",
        "    \"\"\"\n",
        "    #HEuristica 2 ---> Manhattan distance\n",
        "    problem = rubik2d_problem(start_state)\n",
        "    a = time.time()\n",
        "    actions =aStarSearch(problem, myHeuristic2)\n",
        "    b=time.time()\n",
        "    print(\"Manhattan distance \\nActions-->\",actions,\" \",\"depth-->\",len(actions),\" \",\"Tiempo-->\",b-a,\" Expansiones-->\",problem.expanded,\"\\n\")\n",
        "    #HEuristica 4 ---> Matriz de adyacencia\n",
        "    problem = rubik2d_problem(start_state)\n",
        "    a = time.time()\n",
        "    actions =aStarSearch(problem, myHeuristic4)\n",
        "    b=time.time()\n",
        "    print(\"Matriz de adyacencia \\nActions-->\",actions,\" \",\"depth-->\",len(actions),\" \",\"Tiempo-->\",b-a,\" Expansiones-->\",problem.expanded,\"\\n\\n\")\n"
      ],
      "execution_count": 19,
      "outputs": [
        {
          "output_type": "stream",
          "text": [
            "(5, 14, 4, 8, 3, 2, 1, 7, 15, 13, 16, 11, 6, 9, 12, 10)\n",
            "prueba con d= 14\n",
            "Manhattan distance \n",
            "Actions--> ['B+', 'D+', 'E-', 'E-', 'A+', 'C-', 'D+', 'C+', 'B-', 'C-', 'A+', 'A+', 'C+', 'B+', 'E+', 'C-', 'E-', 'C+']   depth--> 18   Tiempo--> 1.1311304569244385  Expansiones--> 34480 \n",
            "\n",
            "Matriz de adyacencia \n",
            "Actions--> ['D+', 'E-', 'E-', 'C-', 'A-', 'C+', 'B+', 'A-', 'E+', 'C-', 'E-', 'A-', 'C+', 'A+', 'D+', 'C+', 'D-', 'C+', 'D+', 'C-']   depth--> 20   Tiempo--> 0.3055112361907959  Expansiones--> 15280 \n",
            "\n",
            "\n",
            "(11, 1, 8, 6, 10, 13, 2, 5, 14, 7, 4, 3, 12, 9, 15, 16)\n",
            "prueba con d= 16\n",
            "Manhattan distance \n",
            "Actions--> ['B+', 'C-', 'D+', 'D+', 'B-', 'C-', 'A-', 'B-', 'A-', 'C+', 'A+', 'B+', 'C-', 'B-', 'C+', 'E-', 'C-', 'E+', 'C+', 'B-', 'C-', 'B+']   depth--> 22   Tiempo--> 2.3296782970428467  Expansiones--> 72890 \n",
            "\n",
            "Matriz de adyacencia \n",
            "Actions--> ['C-', 'A-', 'B+', 'D+', 'D+', 'E-', 'C-', 'B+', 'E+', 'C+', 'A-', 'C-', 'A+', 'C-']   depth--> 14   Tiempo--> 0.11641049385070801  Expansiones--> 6210 \n",
            "\n",
            "\n",
            "(10, 9, 1, 15, 2, 8, 3, 7, 14, 13, 5, 6, 4, 16, 12, 11)\n",
            "prueba con d= 18\n",
            "Manhattan distance \n",
            "Actions--> ['A+', 'D+', 'D+', 'B+', 'A+', 'C-', 'D+', 'C-', 'E-', 'B-', 'C-', 'E-', 'A-', 'C-', 'D-', 'A-', 'C+', 'B-', 'C-', 'A+', 'A+', 'B-', 'C+', 'B+', 'A-', 'C+', 'A+', 'E+', 'C-', 'E-']   depth--> 30   Tiempo--> 45.70504140853882  Expansiones--> 1389930 \n",
            "\n",
            "Matriz de adyacencia \n",
            "Actions--> ['D-', 'A+', 'C-', 'D-', 'E-', 'C+', 'B+', 'B+', 'C+', 'E-', 'A-', 'C+', 'A+', 'B+', 'C-', 'B+', 'B+', 'C+', 'A-', 'C-', 'A+', 'C+', 'A+', 'C-']   depth--> 24   Tiempo--> 1.733612298965454  Expansiones--> 86440 \n",
            "\n",
            "\n",
            "(3, 5, 8, 7, 2, 4, 1, 6, 9, 16, 11, 15, 13, 14, 12, 10)\n",
            "prueba con d= 20\n",
            "Manhattan distance \n",
            "Actions--> ['B+', 'A-', 'C-', 'E+', 'A+', 'E+', 'C+', 'B-', 'C-', 'A-', 'C+', 'A-', 'B+', 'C+', 'B-', 'C-', 'B+', 'B+']   depth--> 18   Tiempo--> 4.971080303192139  Expansiones--> 178700 \n",
            "\n",
            "Matriz de adyacencia \n",
            "Actions--> ['A+', 'B+', 'C-', 'E+', 'B-', 'E+', 'C-', 'B+', 'A-', 'C+', 'A-', 'A-', 'C+', 'A+', 'B-', 'C-', 'B+', 'B+', 'A+', 'C+', 'A-', 'C-']   depth--> 22   Tiempo--> 6.71758770942688  Expansiones--> 279320 \n",
            "\n",
            "\n",
            "(2, 3, 14, 9, 1, 4, 8, 11, 6, 16, 15, 12, 10, 13, 7, 5)\n",
            "prueba con d= 22\n",
            "Manhattan distance \n",
            "Actions--> ['D+', 'B+', 'C+', 'B+', 'C-', 'B+', 'E+', 'C-', 'D-', 'C-', 'E+', 'D+', 'C+', 'C+', 'A+', 'E+', 'B-', 'C+', 'B+', 'E-', 'C-', 'E+', 'D+', 'C-', 'D-', 'C+']   depth--> 26   Tiempo--> 38.11198139190674  Expansiones--> 1134880 \n",
            "\n",
            "Matriz de adyacencia \n",
            "Actions--> ['A+', 'B-', 'E+', 'C-', 'E+', 'C-', 'D+', 'E+', 'B-', 'C+', 'A-', 'C+', 'B+', 'C-', 'A+', 'D+', 'C+', 'D-', 'E-', 'C-', 'E+', 'B+', 'C-', 'B+', 'C+', 'B-']   depth--> 26   Tiempo--> 3.9314444065093994  Expansiones--> 169010 \n",
            "\n",
            "\n",
            "(9, 5, 6, 8, 2, 1, 11, 7, 12, 10, 4, 3, 13, 14, 15, 16)\n",
            "prueba con d= 24\n",
            "Manhattan distance \n",
            "Actions--> ['A-', 'A-', 'B-', 'C-', 'B+', 'C+', 'E-', 'C-', 'B+', 'C+', 'D+', 'C-', 'D-', 'E+']   depth--> 14   Tiempo--> 0.2155313491821289  Expansiones--> 7780 \n",
            "\n",
            "Matriz de adyacencia \n",
            "Actions--> ['A+', 'A+', 'B-', 'C-', 'B+', 'C+', 'E-', 'C-', 'B+', 'C+', 'D+', 'C-', 'D-', 'E+']   depth--> 14   Tiempo--> 0.1252143383026123  Expansiones--> 6100 \n",
            "\n",
            "\n"
          ],
          "name": "stdout"
        }
      ]
    },
    {
      "metadata": {
        "id": "TYaZBtu__hq0",
        "colab_type": "text"
      },
      "cell_type": "markdown",
      "source": [
        "<img src=\"https://raw.githubusercontent.com/nfmorenog/sistemas-inteligentes/master/compare.PNG\" \n",
        "alt=\"datos \" width=\"800\" height=\"300\" border=\"5\" />\n"
      ]
    },
    {
      "metadata": {
        "id": "B9O_DTbqwzEk",
        "colab_type": "text"
      },
      "cell_type": "markdown",
      "source": [
        "**Instrucciones de envío:**\n",
        "\n",
        "Este notebook debe enviarse a través del siguiente [File Request](https://www.dropbox.com/request/A3rkt9ZMPs5i7pZrnkIZ)\n",
        "antes de la medianoche de la fecha límite. El archivo debe nombrarse como \n",
        "`iis-taller1-unalusername1-unalusername2-unalusername3.ipynb`, donde `unalusername` es el nombre de usuario asignado por la universidad (incluya los nombres de usuario de todos los miembros del grupo)."
      ]
    }
  ]
}