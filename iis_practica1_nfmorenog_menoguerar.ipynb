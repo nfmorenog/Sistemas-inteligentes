{
  "nbformat": 4,
  "nbformat_minor": 0,
  "metadata": {
    "colab": {
      "name": "iis_practica1_nfmorenog_menoguerar.ipynb",
      "version": "0.3.2",
      "provenance": [],
      "collapsed_sections": [],
      "include_colab_link": true
    },
    "kernelspec": {
      "display_name": "Python 3",
      "language": "python",
      "name": "python3"
    }
  },
  "cells": [
    {
      "cell_type": "markdown",
      "metadata": {
        "id": "view-in-github",
        "colab_type": "text"
      },
      "source": [
        "[View in Colaboratory](https://colab.research.google.com/github/nfmorenog/Sistemas-inteligentes/blob/master/iis_practica1_nfmorenog_menoguerar.ipynb)"
      ]
    },
    {
      "metadata": {
        "id": "-i_5GQXYoFo6",
        "colab_type": "text"
      },
      "cell_type": "markdown",
      "source": [
        "# Práctica 1\n",
        "# Clasificación Lineal y Evaluación del Desempeño\n",
        "## [Introducción a los Sistemas Inteligentes](https://fagonzalezo.github.io/iis-2018-2/)\n",
        "### Presentado por:\n",
        "### Nelson Felipe Moreno Gómez y Marlon Enrique Noguera Ramirez\n",
        "\n"
      ]
    },
    {
      "metadata": {
        "id": "BMlZMc90oFvs",
        "colab_type": "text"
      },
      "cell_type": "markdown",
      "source": [
        "En esta práctica vamos a construir un clasificador lineal para clasificar tipos de vinos. Para esto vamos a  descargar la base de datos llamada *Wine* disponible en [aquí](https://drive.google.com/open?id=0B8POkZpAJ5qQRlFzVUZnMlZVakk). Si requiere más información sobre la base datos, la puede encontrar en el siguiente link  [aquí](https://archive.ics.uci.edu/ml/datasets/wine).\n",
        "\n",
        "El conjunto de datos contiene los ejemplos de 178 vinos. Cada uno identificado por 13 propiedades químicas:\n",
        "* Alcohol\n",
        "* Malic_acid\n",
        "* Ash\n",
        "* Alcalinity\n",
        "* Magnesium\n",
        "* Phenols\n",
        "* Flavanoids\n",
        "* Nonflavanoid\n",
        "* Proanthocyanins\n",
        "* Color\n",
        "* Hue\n",
        "* OD280/OD315\n",
        "* Proline\n",
        "\n",
        "A cada vino le fue asignada una clase, que corresponde al tipo de vino $[1, 2, 3]$\n",
        "\n",
        "1. Cargue el conjunto de datos como un DataFrame de Pandas\n",
        "2. Cargue la clase en un arreglo aparte. Eliminela del DataFrame de Pandas\n",
        "3. Genere un histograma para cada propiedad del conjunto de datos\n",
        "4. Use `scatter_matrix` y visualize todas las posibles combinaciones de características\n",
        "    * ¿Encuentra algún par de características en el que se observan las clases bien separadas?\n",
        "\n",
        "**Clasificación usando solo dos características y el esquema Multinomial:**\n",
        "5. Entrene un modelo LogisticRegression para categorizar el tipo de vino usando `Proline` contra `Flavonoids`.\n",
        "6. Entrene otro modelo LogisticRegression para categorizar el tipo de vino usando `Alcalinity` contra `Malic Acid`.\n",
        "7. Imprima la región de decisión de cada clasificador.\n",
        "8. Genere la matriz de confusión de cada clasificador.\n",
        "9. Reporte el accuracy, el error de clasificación, la precisión macro, el recall macro y el F1 score macro.\n",
        "    * ¿Cual modelo se desempeña mejor? ¿Por qué?\n",
        "\n",
        "**Clasificación usando todas las características:**\n",
        "10. Entrene un modelo LogisticRegression usando el esquema \"*One vs All*\".\n",
        "11. Entrene un modelo LogisticRegression usando el esquema multinomial.\n",
        "12  Genere la matriz de confusión de cada clasificador.\n",
        "13  Reporte el accuracy, el error de clasificación, la precisión por clase, el recall por clase y el F1 score por clase.\n",
        "  * ¿Cual modelo se desempeña mejor? ¿Por qué? ¿Cual clase es más sencilla para el clasificador?"
      ]
    },
    {
      "metadata": {
        "id": "q62WZ-553KXi",
        "colab_type": "text"
      },
      "cell_type": "markdown",
      "source": [
        "#### Importamos las librerias principales a usar en el notebook ####"
      ]
    },
    {
      "metadata": {
        "id": "VScRqOw2PfRV",
        "colab_type": "code",
        "colab": {}
      },
      "cell_type": "code",
      "source": [
        "#Instalación del paquete tabulate para imprimir la matriz de confusión\n",
        "!pip install tabulate"
      ],
      "execution_count": 0,
      "outputs": []
    },
    {
      "metadata": {
        "id": "_XQ1crtEPfUo",
        "colab_type": "code",
        "colab": {}
      },
      "cell_type": "code",
      "source": [
        "%matplotlib inline\n",
        "import numpy as np\n",
        "import pylab as pl\n",
        "import seaborn as sns; sns.set()\n",
        "from sklearn import preprocessing\n",
        "from sklearn import datasets\n",
        "from sklearn.metrics import confusion_matrix\n",
        "from tabulate import tabulate"
      ],
      "execution_count": 0,
      "outputs": []
    },
    {
      "metadata": {
        "id": "3ZkF2cpE54Sf",
        "colab_type": "text"
      },
      "cell_type": "markdown",
      "source": [
        "#### Definimos las funciones a utilizar en el notebook####"
      ]
    },
    {
      "metadata": {
        "id": "uM6XO7WDPj_G",
        "colab_type": "code",
        "colab": {}
      },
      "cell_type": "code",
      "source": [
        "def plot_data(X, y):   #Función para graficar datos (X,y)\n",
        "    y_unique = np.unique(y)\n",
        "    colors = pl.cm.rainbow(np.linspace(0.0, 1.0, y_unique.size))\n",
        "    for this_y, color in zip(y_unique, colors):\n",
        "        this_X = X[y == this_y]\n",
        "        pl.scatter(this_X[:, 0], this_X[:, 1],  c=color,\n",
        "                    alpha=0.5, edgecolor='k',\n",
        "                    label=\"Class %s\" % this_y)\n",
        "    pl.legend(loc=\"best\")\n",
        "    pl.title(\"Data\")\n",
        "\n",
        "def plot_decision_region2(X, pred_fun):      #Función para visualizar la superficie de decisión de nuestro algoritmo.\n",
        "    min_x = np.min(X[:, 0])\n",
        "    max_x = np.max(X[:, 0])\n",
        "    min_y = np.min(X[:, 1])\n",
        "    max_y = np.max(X[:, 1])\n",
        "    min_x = min_x - (max_x - min_x) * 0.05\n",
        "    max_x = max_x + (max_x - min_x) * 0.05\n",
        "    min_y = min_y - (max_y - min_y) * 0.05\n",
        "    max_y = max_y + (max_y - min_y) * 0.05\n",
        "    x_vals = np.linspace(min_x, max_x, 100)\n",
        "    y_vals = np.linspace(min_y, max_y, 100)\n",
        "    XX, YY = np.meshgrid(x_vals, y_vals)\n",
        "    grid_r, grid_c = XX.shape\n",
        "    ZZ = np.zeros((grid_r, grid_c))\n",
        "    for i in range(grid_r):\n",
        "        for j in range(grid_c):\n",
        "            ZZ[i, j] = pred_fun(XX[i, j], YY[i, j])\n",
        "    pl.contourf(XX, YY, ZZ, 100, cmap = pl.cm.coolwarm, vmin= 1, vmax=3)\n",
        "    pl.colorbar()\n",
        "    pl.xlabel(\"x\")\n",
        "    pl.ylabel(\"y\")\n",
        "    \n",
        "def gen_pred_fun(clf):\n",
        "    def pred_fun(x1, x2):\n",
        "        x = np.array([[x1, x2]])\n",
        "        return clf.predict(x)[0]\n",
        "    return pred_fun\n",
        "\n",
        "def list_cm(cm, classes):     #función para generar de una forma más visual la matriz de confusión\n",
        "    if len(cm)==2:\n",
        "      cm.astype(int)\n",
        "      row_0 =['','Valor','Verdadero']\n",
        "      row_1 =['-',classes[0],classes[1]]\n",
        "      row_2 =[classes[0],cm[0,0],cm[1,0]]\n",
        "      row_3 =[classes[1],cm[0,1],cm[1,1]]\n",
        "      table = zip(row_0,row_1, row_2, row_3)\n",
        "      headers = ['', '', 'Valor', 'Predicho']  \n",
        "      return print(tabulate(table, headers=headers, floatfmt=\".0f\"))\n",
        "    else:\n",
        "      cm.astype(int)\n",
        "      row_0 =['','Valor','Verdadero','']\n",
        "      row_1 =['-',np.int(classes[0]),classes[1],classes[2]]\n",
        "      row_2 =[classes[0],cm[0,0],cm[1,0],cm[2,0]]\n",
        "      row_3 =[classes[1],cm[0,1],cm[1,1],cm[2,1]]\n",
        "      row_4 =[classes[2],cm[0,2],cm[1,2],cm[2,2]]\n",
        "      table = zip(row_0,row_1, row_2, row_3, row_4)\n",
        "      headers = ['', '', 'Valor', 'Predicho', '']  \n",
        "      return print(tabulate(table, headers=headers, floatfmt=\".0f\")) "
      ],
      "execution_count": 0,
      "outputs": []
    },
    {
      "metadata": {
        "id": "dI45Xze1ZsFI",
        "colab_type": "text"
      },
      "cell_type": "markdown",
      "source": [
        "### 1. Cargamos el conjunto de datos como un DataFrame de Pandas ###"
      ]
    },
    {
      "metadata": {
        "id": "3jdHzZvWPoUV",
        "colab_type": "code",
        "colab": {}
      },
      "cell_type": "code",
      "source": [
        "!pip install -U -q PyDrive"
      ],
      "execution_count": 0,
      "outputs": []
    },
    {
      "metadata": {
        "id": "UUZWliocPobw",
        "colab_type": "code",
        "colab": {}
      },
      "cell_type": "code",
      "source": [
        "from pydrive.auth import GoogleAuth\n",
        "from pydrive.drive import GoogleDrive\n",
        "from google.colab import auth\n",
        "from oauth2client.client import GoogleCredentials\n",
        " \n",
        "# 1. Autenticación y creación del cliente PyDrive\n",
        "auth.authenticate_user()\n",
        "gauth = GoogleAuth()\n",
        "gauth.credentials = GoogleCredentials.get_application_default()\n",
        "drive = GoogleDrive(gauth)"
      ],
      "execution_count": 0,
      "outputs": []
    },
    {
      "metadata": {
        "id": "NH76sKYEPoht",
        "colab_type": "code",
        "colab": {}
      },
      "cell_type": "code",
      "source": [
        "file_list = drive.ListFile({'q': \"'4/ZwDld8b7BZxXQB3gPDmtFoXX4MbHN4yGRnNG7zlrouq5M42mKPdA5TM' in parents and trashed=false\"}).GetList()\n",
        "for file1 in file_list:\n",
        "  print('title: %s, id: %s' % (file1['title'], file1['id']))"
      ],
      "execution_count": 0,
      "outputs": []
    },
    {
      "metadata": {
        "id": "5HIG8E0uPoov",
        "colab_type": "code",
        "colab": {}
      },
      "cell_type": "code",
      "source": [
        "train_downloaded = drive.CreateFile({'id': '11pvH069hKkdzFC0HYQQ6v0fwAjzdYEd5'})\n",
        "train_downloaded.GetContentFile('wine.data.txt')"
      ],
      "execution_count": 0,
      "outputs": []
    },
    {
      "metadata": {
        "id": "ynWuvOtEPo0N",
        "colab_type": "code",
        "colab": {}
      },
      "cell_type": "code",
      "source": [
        "import pandas as pd\n",
        "from pandas.plotting import scatter_matrix\n",
        "wine_df = pd.read_csv('wine.data.txt')\n",
        "wine_df.head()"
      ],
      "execution_count": 0,
      "outputs": []
    },
    {
      "metadata": {
        "id": "zqbeRaGimxwl",
        "colab_type": "code",
        "colab": {}
      },
      "cell_type": "code",
      "source": [
        "data_matrix=wine_df.values"
      ],
      "execution_count": 0,
      "outputs": []
    },
    {
      "metadata": {
        "id": "VCTzxVhRadTZ",
        "colab_type": "text"
      },
      "cell_type": "markdown",
      "source": [
        "### 2. Cargamos la clase en un arreglo aparte y la eliminamos del DataFrame de Pandas###"
      ]
    },
    {
      "metadata": {
        "id": "ZPHYND6GPtrn",
        "colab_type": "code",
        "colab": {}
      },
      "cell_type": "code",
      "source": [
        "class_array=wine_df[\"Class\"]\n",
        "wine_df1= wine_df.drop(columns=[\"Class\"])"
      ],
      "execution_count": 0,
      "outputs": []
    },
    {
      "metadata": {
        "id": "j89vTQllrA-A",
        "colab_type": "code",
        "colab": {
          "base_uri": "https://localhost:8080/",
          "height": 163
        },
        "outputId": "cbc16dc3-06ba-47b5-c3a7-b924a989a65f"
      },
      "cell_type": "code",
      "source": [
        "wine_df.columns"
      ],
      "execution_count": 1,
      "outputs": [
        {
          "output_type": "error",
          "ename": "NameError",
          "evalue": "ignored",
          "traceback": [
            "\u001b[0;31m---------------------------------------------------------------------------\u001b[0m",
            "\u001b[0;31mNameError\u001b[0m                                 Traceback (most recent call last)",
            "\u001b[0;32m<ipython-input-1-02bea4ca16a7>\u001b[0m in \u001b[0;36m<module>\u001b[0;34m()\u001b[0m\n\u001b[0;32m----> 1\u001b[0;31m \u001b[0mwine_df\u001b[0m\u001b[0;34m.\u001b[0m\u001b[0mcolumns\u001b[0m\u001b[0;34m\u001b[0m\u001b[0m\n\u001b[0m",
            "\u001b[0;31mNameError\u001b[0m: name 'wine_df' is not defined"
          ]
        }
      ]
    },
    {
      "metadata": {
        "id": "yC5YOF6NauK9",
        "colab_type": "text"
      },
      "cell_type": "markdown",
      "source": [
        "### 3. Generamos un histograma para cada propiedad del conjunto de datos###"
      ]
    },
    {
      "metadata": {
        "id": "3JDNy6bePvfJ",
        "colab_type": "code",
        "colab": {}
      },
      "cell_type": "code",
      "source": [
        "wine_df1.hist(bins=25,figsize=(20,20))\n",
        "\n"
      ],
      "execution_count": 0,
      "outputs": []
    },
    {
      "metadata": {
        "id": "16WDtwYVa0wE",
        "colab_type": "text"
      },
      "cell_type": "markdown",
      "source": [
        "### 4. Usamos `scatter_matrix` y visualizamos todas las posibles combinaciones de características###\n",
        "    * ¿Se encuentra algún par de características en el que se observan las clases bien separadas?"
      ]
    },
    {
      "metadata": {
        "id": "A5smO-0rvnwM",
        "colab_type": "code",
        "colab": {}
      },
      "cell_type": "code",
      "source": [
        "\n",
        "scatter_matrix(wine_df1, alpha=0.5,figsize=(25,25),c =class_array )"
      ],
      "execution_count": 0,
      "outputs": []
    },
    {
      "metadata": {
        "id": "SSGVs68ttx6h",
        "colab_type": "text"
      },
      "cell_type": "markdown",
      "source": [
        "# Clasificación usando solo dos características y el esquema Multinomial:"
      ]
    },
    {
      "metadata": {
        "id": "3QEIZQk5bJxq",
        "colab_type": "text"
      },
      "cell_type": "markdown",
      "source": [
        "### 5. Entrenamos un modelo LogisticRegression para categorizar el tipo de vino usando `Proline` contra `Flavonoids`.###"
      ]
    },
    {
      "metadata": {
        "id": "xnmlaCJgP1ct",
        "colab_type": "code",
        "colab": {}
      },
      "cell_type": "code",
      "source": [
        "from sklearn.linear_model import LogisticRegression"
      ],
      "execution_count": 0,
      "outputs": []
    },
    {
      "metadata": {
        "id": "qAGgczJJP1iP",
        "colab_type": "code",
        "colab": {}
      },
      "cell_type": "code",
      "source": [
        "X = wine_df1.values[:,[6, 12]]\n",
        "y= class_array.values\n",
        "\n",
        "classifier = LogisticRegression()\n",
        "classifier.fit(X, y);"
      ],
      "execution_count": 0,
      "outputs": []
    },
    {
      "metadata": {
        "id": "RCJbzpEcbdVf",
        "colab_type": "text"
      },
      "cell_type": "markdown",
      "source": [
        "### 6. Entrenamos otro modelo LogisticRegression para categorizar el tipo de vino usando `Alcalinity` contra `Malic Acid`.###"
      ]
    },
    {
      "metadata": {
        "id": "A1HyfCRkP3s0",
        "colab_type": "code",
        "colab": {}
      },
      "cell_type": "code",
      "source": [
        "X2 = wine_df1.values[:,[1, 3]]\n",
        "y2= class_array.values\n",
        "\n",
        "classifier2 = LogisticRegression()\n",
        "classifier2.fit(X2, y2);"
      ],
      "execution_count": 0,
      "outputs": []
    },
    {
      "metadata": {
        "id": "LaMcq-_U6FDv",
        "colab_type": "text"
      },
      "cell_type": "markdown",
      "source": [
        "### 7. Imprimimos la región de decisión de cada clasificador.###"
      ]
    },
    {
      "metadata": {
        "id": "dbOOsnd3P5Br",
        "colab_type": "code",
        "colab": {}
      },
      "cell_type": "code",
      "source": [
        "pl.figure(figsize = (8,16/3))    \n",
        "\n",
        "plot_decision_region2(X, gen_pred_fun(classifier))\n",
        "pl.suptitle(' Proline contra Flavonoids',fontsize=20)\n",
        "plot_data(X, y)"
      ],
      "execution_count": 0,
      "outputs": []
    },
    {
      "metadata": {
        "id": "T0X6ZeKpP60x",
        "colab_type": "code",
        "colab": {}
      },
      "cell_type": "code",
      "source": [
        "pl.figure(figsize = (8,16/3))    \n",
        "plot_decision_region2(X2, gen_pred_fun(classifier2))\n",
        "pl.suptitle(' Alcalinity contra Malic Acid',fontsize=20)\n",
        "plot_data(X2, y2)"
      ],
      "execution_count": 0,
      "outputs": []
    },
    {
      "metadata": {
        "id": "Rygdsuedcdwj",
        "colab_type": "text"
      },
      "cell_type": "markdown",
      "source": [
        "### 8. Generamos la matriz de confusión de cada clasificador.###"
      ]
    },
    {
      "metadata": {
        "id": "roY6Hks0P9Zh",
        "colab_type": "code",
        "colab": {}
      },
      "cell_type": "code",
      "source": [
        "from sklearn.metrics import confusion_matrix\n",
        "from tabulate import tabulate"
      ],
      "execution_count": 0,
      "outputs": []
    },
    {
      "metadata": {
        "id": "lpFXXlVbP9fi",
        "colab_type": "code",
        "colab": {}
      },
      "cell_type": "code",
      "source": [
        "class_names=list(set(y))\n",
        "y_pred = classifier.predict(X)\n",
        "mat = confusion_matrix(y, y_pred)\n",
        "list_cm(mat,class_names)"
      ],
      "execution_count": 0,
      "outputs": []
    },
    {
      "metadata": {
        "id": "IxYK-BBBP9mL",
        "colab_type": "code",
        "colab": {}
      },
      "cell_type": "code",
      "source": [
        "y2_pred = classifier2.predict(X2)\n",
        "mat2 = confusion_matrix(y2, y2_pred)\n",
        "list_cm(mat2,class_names)"
      ],
      "execution_count": 0,
      "outputs": []
    },
    {
      "metadata": {
        "id": "JPxSknf5c63W",
        "colab_type": "text"
      },
      "cell_type": "markdown",
      "source": [
        "### 9. Reportamos el accuracy, el error de clasificación, la precisión macro, el recall macro y el F1 score macro.###\n",
        "    * ¿Cual modelo se desempeña mejor? ¿Por qué?"
      ]
    },
    {
      "metadata": {
        "id": "Jh0Hj4VwQB23",
        "colab_type": "code",
        "colab": {}
      },
      "cell_type": "code",
      "source": [
        "print('Accuracy classifier Proline vs Flavonoids: {}'.format(classifier.score(X, y)))\n",
        "print('Accuracy classifier Alcalinity vs Malic Acid: {}'.format(classifier2.score(X2, y2)))\n",
        "def error(matrix):\n",
        "  TP = 0\n",
        "  FP = 0\n",
        "  FN = 0\n",
        "\n",
        "  for i in range(len(matrix)): \n",
        "    for j in range(len(matrix)): \n",
        "      if i==j:\n",
        "         TP += matrix[i][j]\n",
        "      if i>j:\n",
        "         FP += matrix[i][j]\n",
        "\n",
        "      if i<j:\n",
        "         FN += matrix[i][j]\n",
        "  t_error= (FP+FN)/(TP+FN+FP)\n",
        "\n",
        "  return t_error\n",
        "\n",
        "print(\"error classifier Proline vs Flavonoids: \",error(mat))\n",
        "print(\"error classifier Alcalinity vs Malic Acid: \",error(mat2))\n",
        "\n"
      ],
      "execution_count": 0,
      "outputs": []
    },
    {
      "metadata": {
        "id": "oxTUSenEQB85",
        "colab_type": "code",
        "colab": {}
      },
      "cell_type": "code",
      "source": [
        "from sklearn.metrics import recall_score, f1_score\n",
        "print (\"Proline vs Flavonoids\")\n",
        "\n",
        "print('Recall macro: {}'.format(recall_score(y, y_pred, average='macro')))\n",
        "print('Recall micro: {}'.format(recall_score(y, y_pred, average='micro')))\n",
        "print('Recall pesada: {}'.format(recall_score(y, y_pred, average='weighted')))\n",
        "\n",
        "print('F1 macro: {}'.format(f1_score(y, y_pred, average='macro')))\n",
        "print('F1 micro: {}'.format(f1_score(y, y_pred, average='micro')))\n",
        "print('F1 pesada: {}'.format(f1_score(y, y_pred, average='weighted')))\n"
      ],
      "execution_count": 0,
      "outputs": []
    },
    {
      "metadata": {
        "id": "COzwo_ESQCDP",
        "colab_type": "code",
        "colab": {}
      },
      "cell_type": "code",
      "source": [
        "from sklearn.metrics import recall_score, f1_score\n",
        "print (\"Alcalinity vs Malic Acid\")\n",
        "\n",
        "print('Recall macro: {}'.format(recall_score(y2, y2_pred, average='macro')))\n",
        "print('Recall micro: {}'.format(recall_score(y2, y2_pred, average='micro')))\n",
        "print('Recall pesada: {}'.format(recall_score(y2, y2_pred, average='weighted')))\n",
        "\n",
        "print('F1 macro: {}'.format(f1_score(y2, y2_pred, average='macro')))\n",
        "print('F1 micro: {}'.format(f1_score(y2, y2_pred, average='micro')))\n",
        "print('F1 pesada: {}'.format(f1_score(y2, y2_pred, average='weighted')))"
      ],
      "execution_count": 0,
      "outputs": []
    },
    {
      "metadata": {
        "id": "TvWmsCXqT4WK",
        "colab_type": "text"
      },
      "cell_type": "markdown",
      "source": [
        "### la comparacion de Proline vs Flavonoids tiene un mejor resultado en la predicción, puesto que en la gráfica se observa una mayor correlación entre los vinos de la misma clase."
      ]
    },
    {
      "metadata": {
        "id": "Ih3VY_sAdMnP",
        "colab_type": "text"
      },
      "cell_type": "markdown",
      "source": [
        "# Clasificación usando todas las características"
      ]
    },
    {
      "metadata": {
        "id": "TwN4CPL1dNQN",
        "colab_type": "text"
      },
      "cell_type": "markdown",
      "source": [
        "### 10. Entrenamos un modelo LogisticRegression usando el esquema \"*One vs All*\".###"
      ]
    },
    {
      "metadata": {
        "id": "P3xpWuziQFj-",
        "colab_type": "code",
        "colab": {}
      },
      "cell_type": "code",
      "source": [
        "X3 = wine_df1.values\n",
        "y3= class_array.values\n",
        "#print(X3)\n",
        "classifier_ovr = LogisticRegression(multi_class='ovr')\n",
        "classifier_ovr.fit(X3, y3)"
      ],
      "execution_count": 0,
      "outputs": []
    },
    {
      "metadata": {
        "id": "ra1BCyemdXMx",
        "colab_type": "text"
      },
      "cell_type": "markdown",
      "source": [
        "### 11. Entrenamos un modelo LogisticRegression usando el esquema multinomial.###"
      ]
    },
    {
      "metadata": {
        "id": "kAIiADgQQHVS",
        "colab_type": "code",
        "colab": {}
      },
      "cell_type": "code",
      "source": [
        "classifier_multi = LogisticRegression(multi_class='multinomial',  solver='lbfgs');\n",
        "classifier_multi.fit(X3, y3)\n",
        "\n",
        "#pl.figure(figsize = (8,16/3))    \n",
        "#plot_decision_region2(X3, gen_pred_fun(classifier_multi))\n",
        "#plot_data(X3, y3)\n"
      ],
      "execution_count": 0,
      "outputs": []
    },
    {
      "metadata": {
        "id": "O_7KKz3qdb-b",
        "colab_type": "text"
      },
      "cell_type": "markdown",
      "source": [
        "### 12  Generamos la matriz de confusión de cada clasificador.###"
      ]
    },
    {
      "metadata": {
        "id": "eDM1QcirQKTR",
        "colab_type": "code",
        "colab": {}
      },
      "cell_type": "code",
      "source": [
        "y3_pred = classifier_ovr.predict(X3)\n",
        "mat_ovr = confusion_matrix(y3, y3_pred)\n",
        "list_cm(mat_ovr,class_names)"
      ],
      "execution_count": 0,
      "outputs": []
    },
    {
      "metadata": {
        "id": "gc0EEmxKQKYm",
        "colab_type": "code",
        "colab": {}
      },
      "cell_type": "code",
      "source": [
        "y4_pred = classifier_multi.predict(X3)\n",
        "mat_multi = confusion_matrix(y3, y4_pred)\n",
        "list_cm(mat_multi,class_names)"
      ],
      "execution_count": 0,
      "outputs": []
    },
    {
      "metadata": {
        "id": "wi5Rh4MneanI",
        "colab_type": "text"
      },
      "cell_type": "markdown",
      "source": [
        "### 13  Reportamos el accuracy, el error de clasificación, la precisión por clase, el recall por clase y el F1 score por clase.###\n",
        "  * ¿Cual modelo se desempeña mejor? ¿Por qué? ¿Cual clase es más sencilla para el clasificador?"
      ]
    },
    {
      "metadata": {
        "id": "DQWSW5swQNvK",
        "colab_type": "code",
        "colab": {}
      },
      "cell_type": "code",
      "source": [
        "print('Accuracy  One vs All classifier: {}'.format(classifier_ovr.score(X3, y3)))\n",
        "print('Accuracy Multinomial classifier : {}\\n'.format(classifier_multi.score(X3, y3)))\n",
        "print(\"error  One vs All classifier: \",error(mat_ovr))\n",
        "print(\"error  Multinomial classifier: \",error(mat_multi),\"\\n\")\n",
        "\n",
        "from sklearn.metrics import precision_score\n",
        "print(\"Precision One vs All classifier\")\n",
        "print('Orden de las etiquetas: {}'.format(class_names))\n",
        "print('Precision por clase: {}\\n'.format(precision_score(y3, y3_pred, average=None)))\n",
        "print(\"Precision Multinomial classifier\")\n",
        "print('Orden de las etiquetas: {}'.format(class_names))\n",
        "print('Precision por clase: {}'.format(precision_score(y3, y4_pred, average=None)))"
      ],
      "execution_count": 0,
      "outputs": []
    },
    {
      "metadata": {
        "id": "l0sABjbWQNym",
        "colab_type": "code",
        "colab": {}
      },
      "cell_type": "code",
      "source": [
        "from sklearn.metrics import recall_score, f1_score\n",
        "print (\"One vs All\")\n",
        "\n",
        "print('Recall macro: {}'.format(recall_score(y3, y3_pred, average='macro')))\n",
        "print('Recall micro: {}'.format(recall_score(y3, y3_pred, average='micro')))\n",
        "print('Recall pesada: {}'.format(recall_score(y3, y3_pred, average='weighted')))\n",
        "\n",
        "print('F1 macro: {}'.format(f1_score(y3, y3_pred, average='macro')))\n",
        "print('F1 micro: {}'.format(f1_score(y3, y3_pred, average='micro')))\n",
        "print('F1 pesada: {}'.format(f1_score(y3, y3_pred, average='weighted')))"
      ],
      "execution_count": 0,
      "outputs": []
    },
    {
      "metadata": {
        "id": "dKIabqTIv7g9",
        "colab_type": "code",
        "colab": {}
      },
      "cell_type": "code",
      "source": [
        "print (\"Multinomial classifier \")\n",
        "print('Recall macro: {}'.format(recall_score(y3, y4_pred, average='macro')))\n",
        "print('Recall micro: {}'.format(recall_score(y3, y4_pred, average='micro')))\n",
        "print('Recall pesada: {}'.format(recall_score(y3, y4_pred, average='weighted')))\n",
        "\n",
        "print('F1 macro: {}'.format(f1_score(y3, y4_pred, average='macro')))\n",
        "print('F1 micro: {}'.format(f1_score(y3, y4_pred, average='micro')))\n",
        "print('F1 pesada: {}'.format(f1_score(y3, y4_pred, average='weighted')))"
      ],
      "execution_count": 0,
      "outputs": []
    },
    {
      "metadata": {
        "id": "aP3KT88pMJ4j",
        "colab_type": "text"
      },
      "cell_type": "markdown",
      "source": [
        "##Conclusión\n",
        "###Se tuvo un mejor desempeño con el modelo one vs all, debido a errores de clasificacion en la clase 2 para el modelo multinomial. La clase 1 tuvo una puntuación perfecta en ambos modelos.\n",
        "\n",
        "\n",
        "\n"
      ]
    },
    {
      "metadata": {
        "id": "MDl9OAPT1d1E",
        "colab_type": "text"
      },
      "cell_type": "markdown",
      "source": [
        "**Instrucciones de envío:**\n",
        "\n",
        "Este notebook debe enviarse a través del siguiente [File Request](https://www.dropbox.com/request/M4GoStgQHPycQ5NwjQba)\n",
        "antes de la medianoche de la fecha límite. El archivo debe nombrarse como \n",
        "`iis-practica1-unalusername1-unalusername2.ipynb`, donde `unalusername` es el nombre de usuario asignado por la universidad (incluya los nombres de usuario de todos los miembros del grupo)."
      ]
    }
  ]
}